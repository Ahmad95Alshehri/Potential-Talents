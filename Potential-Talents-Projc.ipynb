{
 "cells": [
  {
   "cell_type": "markdown",
   "id": "6bb22e5d",
   "metadata": {},
   "source": [
    "# Imports: "
   ]
  },
  {
   "cell_type": "code",
   "execution_count": 1,
   "id": "b31d1aa0",
   "metadata": {},
   "outputs": [],
   "source": [
    "import pandas as pd\n",
    "from sklearn.feature_extraction.text import CountVectorizer, TfidfVectorizer\n",
    "import numpy as np\n",
    "import matplotlib.pyplot as plt\n",
    "from gensim.models import Word2Vec\n",
    "from gensim.models import KeyedVectors\n",
    "from transformers import BertModel, BertTokenizer\n",
    "from sentence_transformers import SentenceTransformer\n",
    "import torch  # Import the torch library\n",
    "import scipy.sparse\n",
    "from sklearn.feature_extraction.text import CountVectorizer\n",
    "from sklearn.metrics.pairwise import cosine_similarity\n",
    "from gensim.models import Word2Vec\n",
    "from scipy import spatial\n",
    "from sentence_transformers import SentenceTransformer"
   ]
  },
  {
   "cell_type": "markdown",
   "id": "b3a77d7d",
   "metadata": {},
   "source": [
    "# Load Data & TEST:"
   ]
  },
  {
   "cell_type": "code",
   "execution_count": 2,
   "id": "9e47c6e6",
   "metadata": {
    "scrolled": false
   },
   "outputs": [
    {
     "name": "stdout",
     "output_type": "stream",
     "text": [
      "    id                                          job_title  \\\n",
      "0  1.0  2019 C.T. Bauer College of Business Graduate (...   \n",
      "1  2.0  Native English Teacher at EPIK (English Progra...   \n",
      "2  3.0              Aspiring Human Resources Professional   \n",
      "3  4.0             People Development Coordinator at Ryan   \n",
      "4  5.0    Advisory Board Member at Celal Bayar University   \n",
      "\n",
      "                              location connection  fit  \n",
      "0                       Houston, Texas       85.0  NaN  \n",
      "1                               Kanada      500+   NaN  \n",
      "2  Raleigh-Durham, North Carolina Area       44.0  NaN  \n",
      "3                        Denton, Texas      500+   NaN  \n",
      "4                       İzmir, Türkiye      500+   NaN  \n"
     ]
    }
   ],
   "source": [
    "# Define the file path\n",
    "file_path = 'potential-talents.xlsx'\n",
    "\n",
    "# Read the Excel file into a pandas DataFrame\n",
    "df = pd.read_excel(file_path)\n",
    "\n",
    "# Display the first few rows of the DataFrame to check if the import was successful\n",
    "print(df.head())\n"
   ]
  },
  {
   "cell_type": "markdown",
   "id": "73f7f017",
   "metadata": {},
   "source": [
    "# Preprocessing:"
   ]
  },
  {
   "cell_type": "code",
   "execution_count": 3,
   "id": "71675a2e",
   "metadata": {},
   "outputs": [],
   "source": [
    "# ** Bag of Words **\n",
    "vectorizer = CountVectorizer()\n",
    "bow_matrix = vectorizer.fit_transform(df['job_title'])\n",
    "\n",
    "# ** TF-IDF **\n",
    "tfidf_vectorizer = TfidfVectorizer()\n",
    "tfidf_matrix = tfidf_vectorizer.fit_transform(df['job_title'])\n",
    "\n",
    "# ** Word2Vec **\n",
    "tokenized_job_titles = [title.split() for title in df['job_title']]\n",
    "word2vec_model = Word2Vec(sentences=tokenized_job_titles, vector_size=100, window=5, min_count=1, workers=4)\n",
    "\n",
    "# ** BERT **\n",
    "bert_tokenizer = BertTokenizer.from_pretrained('bert-base-uncased')\n",
    "bert_model = BertModel.from_pretrained('bert-base-uncased')\n",
    "encoded_titles = df['job_title'].apply(lambda x: bert_tokenizer.encode(x, add_special_tokens=True, truncation=True))\n",
    "bert_embeddings = [bert_model(torch.tensor([encoded_title]))[0].mean(dim=1).detach().numpy() for encoded_title in encoded_titles]\n",
    "\n",
    "# ** SBERT **\n",
    "sbert_model = SentenceTransformer('bert-base-nli-mean-tokens')\n",
    "sbert_embeddings = sbert_model.encode(df['job_title'])\n"
   ]
  },
  {
   "cell_type": "markdown",
   "id": "2a1040a3",
   "metadata": {},
   "source": [
    "# Functions:"
   ]
  },
  {
   "cell_type": "code",
   "execution_count": 4,
   "id": "8b5a4adb",
   "metadata": {},
   "outputs": [],
   "source": [
    "# Define a function to calculate fit scores\n",
    "def calculate_fit_scores(embeddings, random_state=None):\n",
    "    if isinstance(embeddings, (np.ndarray, np.generic)):\n",
    "        return np.random.RandomState(random_state).rand(len(embeddings))\n",
    "    elif scipy.sparse.issparse(embeddings):\n",
    "        return np.random.RandomState(random_state).rand(embeddings.shape[0])\n",
    "    else:\n",
    "        raise TypeError(\"Unsupported type for embeddings\")\n",
    "\n",
    "\n",
    "\n",
    "# Function for Word2Vec representation and fit scores\n",
    "def word2vec_representation_and_fit_scores(data_column):\n",
    "    tokenized_job_titles = [title.split() for title in data_column]\n",
    "    word2vec_model = Word2Vec(sentences=tokenized_job_titles, vector_size=100, window=5, min_count=1, workers=4)\n",
    "    embeddings = np.vstack([word2vec_model.wv.get_vector(token) for title in data_column for token in title.split()])\n",
    "    fit_scores = calculate_fit_scores(embeddings, random_state=42)\n",
    "\n",
    "    return fit_scores\n",
    "\n",
    "\n",
    "# Function for GloVe representation and fit scores\n",
    "def glove_representation_and_fit_scores(data_column):\n",
    "    glove_model = KeyedVectors.load_word2vec_format('path/to/glove.6B.100d.txt', binary=False)\n",
    "    embeddings = np.vstack([glove_model.get_vector(token) for title in df[data_column] for token in title.split()])\n",
    "    fit_scores = calculate_fit_scores(embeddings, random_state=42)\n",
    "\n",
    "    return fit_scores\n",
    "\n",
    "# Function for TF-IDF representation and fit scores\n",
    "def tfidf_representation_and_fit_scores(data_column):\n",
    "    # Transform job_title column into a TF-IDF representation\n",
    "    tfidf_vectorizer = TfidfVectorizer()\n",
    "    embeddings = tfidf_vectorizer.fit_transform(data_column)\n",
    "    \n",
    "    # Convert embeddings to NumPy array\n",
    "    embeddings = embeddings.toarray()  # Convert sparse matrix to dense NumPy array\n",
    "    \n",
    "    # Calculate fit scores\n",
    "    fit_scores = calculate_fit_scores(embeddings, random_state=42)\n",
    "\n",
    "    \n",
    "    return fit_scores\n",
    "\n",
    "# Function for BERT representation and fit scores\n",
    "def bert_representation_and_fit_scores(model, tokenizer, data_column):\n",
    "    encoded_titles = df[data_column].apply(lambda x: tokenizer.encode(x, add_special_tokens=True, truncation=True))\n",
    "    bert_embeddings = [model(torch.tensor([encoded_title]))[0].mean(dim=1).detach().numpy() for encoded_title in encoded_titles]\n",
    "    embeddings = np.vstack(bert_embeddings)\n",
    "    fit_scores = calculate_fit_scores(embeddings, random_state=42)\n",
    "\n",
    "    return fit_scores\n",
    "\n",
    "# Function to visualize the before and after difference\n",
    "def visualize_difference(before_scores, after_scores, method_name):\n",
    "    plt.figure(figsize=(10, 5))\n",
    "    plt.bar(['Before', 'After'], [np.mean(before_scores), np.mean(after_scores)], color=['blue', 'orange'])\n",
    "    plt.title(f'Impact of {method_name} on Fit Scores')\n",
    "    plt.xlabel('Representation Method')\n",
    "    plt.ylabel('Average Fit Score')\n",
    "    plt.show()\n",
    "\n"
   ]
  },
  {
   "cell_type": "markdown",
   "id": "196c2b53",
   "metadata": {},
   "source": [
    "# Fit Scores & Visualization:"
   ]
  },
  {
   "cell_type": "code",
   "execution_count": 5,
   "id": "4de05951",
   "metadata": {},
   "outputs": [
    {
     "data": {
      "image/png": "[encoded data removed]",
      "text/plain": [
       "<Figure size 720x360 with 1 Axes>"
      ]
     },
     "metadata": {
      "needs_background": "light"
     },
     "output_type": "display_data"
    },
    {
     "data": {
      "image/png": "[encoded data removed]",
      "text/plain": [
       "<Figure size 720x360 with 1 Axes>"
      ]
     },
     "metadata": {
      "needs_background": "light"
     },
     "output_type": "display_data"
    },
    {
     "data": {
      "image/png": "[encoded data removed]",
      "text/plain": [
       "<Figure size 720x360 with 1 Axes>"
      ]
     },
     "metadata": {
      "needs_background": "light"
     },
     "output_type": "display_data"
    },
    {
     "data": {
      "image/png": "[encoded data removed]",
      "text/plain": [
       "<Figure size 720x360 with 1 Axes>"
      ]
     },
     "metadata": {
      "needs_background": "light"
     },
     "output_type": "display_data"
    },
    {
     "data": {
      "image/png": "[encoded data removed]",
      "text/plain": [
       "<Figure size 720x360 with 1 Axes>"
      ]
     },
     "metadata": {
      "needs_background": "light"
     },
     "output_type": "display_data"
    }
   ],
   "source": [
    "before_bow_scores = calculate_fit_scores(bow_matrix.toarray())\n",
    "after_bow_scores = calculate_fit_scores(bow_matrix.toarray())\n",
    "\n",
    "before_tfidf_scores = calculate_fit_scores(tfidf_matrix.toarray())\n",
    "after_tfidf_scores = calculate_fit_scores(tfidf_matrix.toarray())\n",
    "\n",
    "before_word2vec_scores = calculate_fit_scores(word2vec_model.wv.vectors)\n",
    "after_word2vec_scores = calculate_fit_scores(word2vec_model.wv.vectors)\n",
    "\n",
    "# GloVe\n",
    "# before_glove_scores = calculate_fit_scores(glove_model)\n",
    "# after_glove_scores = calculate_fit_scores(glove_model)\n",
    "\n",
    "# Convert bert_embeddings from a list of arrays to a single array\n",
    "bert_embeddings_array = np.vstack(bert_embeddings)\n",
    "\n",
    "before_bert_scores = calculate_fit_scores(bert_embeddings_array)\n",
    "after_bert_scores = calculate_fit_scores(bert_embeddings_array)\n",
    "\n",
    "before_sbert_scores = calculate_fit_scores(sbert_embeddings)\n",
    "after_sbert_scores = calculate_fit_scores(sbert_embeddings)\n",
    "\n",
    "# Visualization\n",
    "visualize_difference(before_bow_scores, after_bow_scores, 'Bag of Words')\n",
    "visualize_difference(before_tfidf_scores, after_tfidf_scores, 'TF-IDF')\n",
    "visualize_difference(before_word2vec_scores, after_word2vec_scores, 'Word2Vec')\n",
    "# visualize_difference(before_glove_scores, after_glove_scores, 'GloVe')  # Uncomment when GloVe model is available\n",
    "visualize_difference(before_bert_scores, after_bert_scores, 'BERT')\n",
    "visualize_difference(before_sbert_scores, after_sbert_scores, 'SBERT')\n",
    "\n"
   ]
  },
  {
   "cell_type": "markdown",
   "id": "4202447b",
   "metadata": {},
   "source": [
    "# Learning Models(Using Samilarity)"
   ]
  },
  {
   "cell_type": "code",
   "execution_count": 6,
   "id": "6680246a",
   "metadata": {},
   "outputs": [],
   "source": [
    "similarity_bow = cosine_similarity(bow_matrix[0], bow_matrix[1])\n",
    "similarity_tfidf = cosine_similarity(tfidf_matrix[0], tfidf_matrix[1])\n",
    "\n",
    "# Check and compute Word2Vec similarity\n",
    "word1, word2 = 'Human', 'Resources'\n",
    "if word1 in word2vec_model.wv and word2 in word2vec_model.wv:\n",
    "    similarity_word2vec = 1 - spatial.distance.cosine(word2vec_model.wv[word1], word2vec_model.wv[word2])\n",
    "else:\n",
    "    similarity_word2vec = None\n",
    "    print(f\"One or both words not found in Word2Vec model: {word1}, {word2}\")\n",
    "\n",
    "# Convert bert_embeddings from a list of arrays to a single array\n",
    "bert_embeddings_array = np.vstack(bert_embeddings)\n",
    "similarity_bert = cosine_similarity(bert_embeddings_array[0].reshape(1, -1), bert_embeddings_array[1].reshape(1, -1))\n",
    "\n",
    "# SBERT similarity\n",
    "similarity_sbert = cosine_similarity([sbert_embeddings[0]], [sbert_embeddings[1]])\n"
   ]
  },
  {
   "cell_type": "markdown",
   "id": "e943190f",
   "metadata": {},
   "source": [
    "# Ranking & Re-Ranking:"
   ]
  },
  {
   "cell_type": "code",
   "execution_count": 14,
   "id": "05147d18",
   "metadata": {},
   "outputs": [],
   "source": [
    "def manage_candidates(data, keyword, star_candidate_id=None, cut_off=None, irrelevant_filter=None):\n",
    "    \"\"\"\n",
    "    Manage candidate ranking based on various criteria.\n",
    "\n",
    "    Parameters:\n",
    "    data (DataFrame): The candidate data.\n",
    "    keyword (str): The keyword for initial filtering.\n",
    "    star_candidate_id (int, optional): The ID of the candidate to be starred.\n",
    "    cut_off (float, optional): The cut-off fitness score to filter candidates.\n",
    "    irrelevant_filter (function, optional): A function to filter out irrelevant candidates.\n",
    "\n",
    "    Returns:\n",
    "    DataFrame: The ranked list of candidates.\n",
    "    \"\"\"\n",
    "\n",
    "    # Filter based on keyword\n",
    "    filtered_data = data[data['job_title'].str.contains(keyword, case=False, na=False)]\n",
    "\n",
    "    # Apply the irrelevant filter if provided\n",
    "    if irrelevant_filter:\n",
    "        filtered_data = irrelevant_filter(filtered_data)\n",
    "\n",
    "    # Predict fitness scores (Here, a simple random score assignment for demonstration)\n",
    "    np.random.seed(0)  # For reproducible results\n",
    "    filtered_data['fit'] = np.random.rand(len(filtered_data))\n",
    "\n",
    "    # Rank candidates based on fitness scores\n",
    "    ranked_candidates = filtered_data.sort_values(by='fit', ascending=False)\n",
    "\n",
    "    # Re-rank if a star candidate is provided\n",
    "    if star_candidate_id and star_candidate_id in ranked_candidates['id'].values:\n",
    "        # Move the starred candidate to the top\n",
    "        star_candidate = ranked_candidates[ranked_candidates['id'] == star_candidate_id]\n",
    "        ranked_candidates = ranked_candidates[ranked_candidates['id'] != star_candidate_id]\n",
    "        ranked_candidates = pd.concat([star_candidate, ranked_candidates], ignore_index=True)\n",
    "\n",
    "    # Apply cut-off if provided\n",
    "    if cut_off:\n",
    "        ranked_candidates = ranked_candidates[ranked_candidates['fit'] >= cut_off]\n",
    "\n",
    "    return ranked_candidates\n",
    "\n"
   ]
  },
  {
   "cell_type": "code",
   "execution_count": 16,
   "id": "7e6b967a",
   "metadata": {},
   "outputs": [
    {
     "name": "stdout",
     "output_type": "stream",
     "text": [
      "      id                                          job_title  \\\n",
      "0   36.0                Aspiring Human Resources Specialist   \n",
      "1   82.0  Aspiring Human Resources Professional | An ene...   \n",
      "2   15.0  2019 C.T. Bauer College of Business Graduate (...   \n",
      "3   49.0                Aspiring Human Resources Specialist   \n",
      "4   67.0  Human Resources, Staffing and Recruiting Profe...   \n",
      "..   ...                                                ...   \n",
      "56  28.0              Seeking Human Resources Opportunities   \n",
      "57  27.0  Aspiring Human Resources Management student se...   \n",
      "58  72.0  Business Management Major and Aspiring Human R...   \n",
      "59  29.0  Aspiring Human Resources Management student se...   \n",
      "60  60.0                Aspiring Human Resources Specialist   \n",
      "\n",
      "                      location connection       fit  \n",
      "0   Greater New York City Area        1.0  0.978618  \n",
      "1           Austin, Texas Area      174.0  0.988374  \n",
      "2               Houston, Texas       85.0  0.963663  \n",
      "3   Greater New York City Area        1.0  0.944669  \n",
      "4    Jackson, Mississippi Area      500+   0.943748  \n",
      "..                         ...        ...       ...  \n",
      "56           Chicago, Illinois      390.0  0.087129  \n",
      "57         Houston, Texas Area      500+   0.071036  \n",
      "58      Monroe, Louisiana Area        5.0  0.060225  \n",
      "59         Houston, Texas Area      500+   0.020218  \n",
      "60  Greater New York City Area        1.0  0.018790  \n",
      "\n",
      "[61 rows x 5 columns]\n"
     ]
    },
    {
     "name": "stderr",
     "output_type": "stream",
     "text": [
      "C:\\Users\\AHMADA~1\\AppData\\Local\\Temp/ipykernel_8520/1955044755.py:25: SettingWithCopyWarning: \n",
      "A value is trying to be set on a copy of a slice from a DataFrame.\n",
      "Try using .loc[row_indexer,col_indexer] = value instead\n",
      "\n",
      "See the caveats in the documentation: https://pandas.pydata.org/pandas-docs/stable/user_guide/indexing.html#returning-a-view-versus-a-copy\n",
      "  filtered_data['fit'] = np.random.rand(len(filtered_data))\n"
     ]
    }
   ],
   "source": [
    "# Example call to the function\n",
    "ranked_candidates = manage_candidates(df, \"Human\", star_candidate_id=36.0, cut_off=None, irrelevant_filter=None)\n",
    "print(ranked_candidates)\n"
   ]
  },
  {
   "cell_type": "code",
   "execution_count": 18,
   "id": "a9037d92",
   "metadata": {},
   "outputs": [
    {
     "name": "stdout",
     "output_type": "stream",
     "text": [
      "      id                                          job_title  \\\n",
      "0   72.0  Business Management Major and Aspiring Human R...   \n",
      "1   82.0  Aspiring Human Resources Professional | An ene...   \n",
      "2   36.0                Aspiring Human Resources Specialist   \n",
      "3   15.0  2019 C.T. Bauer College of Business Graduate (...   \n",
      "4   49.0                Aspiring Human Resources Specialist   \n",
      "..   ...                                                ...   \n",
      "56  84.0  Human Resources professional for the world lea...   \n",
      "57  28.0              Seeking Human Resources Opportunities   \n",
      "58  27.0  Aspiring Human Resources Management student se...   \n",
      "59  29.0  Aspiring Human Resources Management student se...   \n",
      "60  60.0                Aspiring Human Resources Specialist   \n",
      "\n",
      "                      location connection       fit  \n",
      "0       Monroe, Louisiana Area        5.0  0.060225  \n",
      "1           Austin, Texas Area      174.0  0.988374  \n",
      "2   Greater New York City Area        1.0  0.978618  \n",
      "3               Houston, Texas       85.0  0.963663  \n",
      "4   Greater New York City Area        1.0  0.944669  \n",
      "..                         ...        ...       ...  \n",
      "56        Highland, California       50.0  0.102045  \n",
      "57           Chicago, Illinois      390.0  0.087129  \n",
      "58         Houston, Texas Area      500+   0.071036  \n",
      "59         Houston, Texas Area      500+   0.020218  \n",
      "60  Greater New York City Area        1.0  0.018790  \n",
      "\n",
      "[61 rows x 5 columns]\n"
     ]
    },
    {
     "name": "stderr",
     "output_type": "stream",
     "text": [
      "C:\\Users\\AHMADA~1\\AppData\\Local\\Temp/ipykernel_8520/1955044755.py:25: SettingWithCopyWarning: \n",
      "A value is trying to be set on a copy of a slice from a DataFrame.\n",
      "Try using .loc[row_indexer,col_indexer] = value instead\n",
      "\n",
      "See the caveats in the documentation: https://pandas.pydata.org/pandas-docs/stable/user_guide/indexing.html#returning-a-view-versus-a-copy\n",
      "  filtered_data['fit'] = np.random.rand(len(filtered_data))\n"
     ]
    }
   ],
   "source": [
    "# Example call to the function\n",
    "ranked_candidates = manage_candidates(df, \"Human\", star_candidate_id=72., cut_off=None, irrelevant_filter=None)\n",
    "print(ranked_candidates)"
   ]
  },
  {
   "cell_type": "markdown",
   "id": "37d52f07",
   "metadata": {},
   "source": []
  },
  {
   "cell_type": "code",
   "execution_count": null,
   "id": "ce66d3f2",
   "metadata": {},
   "outputs": [],
   "source": []
  },
  {
   "cell_type": "code",
   "execution_count": null,
   "id": "8328c89e",
   "metadata": {
    "scrolled": true
   },
   "outputs": [],
   "source": []
  },
  {
   "cell_type": "code",
   "execution_count": null,
   "id": "6d786e88",
   "metadata": {},
   "outputs": [],
   "source": []
  },
  {
   "cell_type": "code",
   "execution_count": null,
   "id": "4c12b050",
   "metadata": {},
   "outputs": [],
   "source": []
  }
 ],
 "metadata": {
  "kernelspec": {
   "display_name": "Python 3 (ipykernel)",
   "language": "python",
   "name": "python3"
  },
  "language_info": {
   "codemirror_mode": {
    "name": "ipython",
    "version": 3
   },
   "file_extension": ".py",
   "mimetype": "text/x-python",
   "name": "python",
   "nbconvert_exporter": "python",
   "pygments_lexer": "ipython3",
   "version": "3.9.7"
  }
 },
 "nbformat": 4,
 "nbformat_minor": 5
}
